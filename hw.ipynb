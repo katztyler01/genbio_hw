{
 "cells": [
  {
   "cell_type": "code",
   "execution_count": 1,
   "metadata": {},
   "outputs": [],
   "source": [
    "from downloader import ENCODEDownloader\n",
    "from pybedtools import BedTool\n",
    "import pandas as pd\n",
    "import gffutils\n",
    "from processor import ENCODEProcessor\n",
    "import re\n"
   ]
  },
  {
   "cell_type": "code",
   "execution_count": 2,
   "metadata": {},
   "outputs": [],
   "source": [
    "# TODO: add stuff for hg19 genome (cage)\n",
    "# downloader = ENCODEDownloader()\n",
    "# downloader.download_reference_genome()\n",
    "# downloader.find_experiments(assay=\"CAGE\", n_experiments=2)"
   ]
  },
  {
   "cell_type": "code",
   "execution_count": 3,
   "metadata": {},
   "outputs": [
    {
     "name": "stdout",
     "output_type": "stream",
     "text": [
      "Loading existing database from /home/tjkatz/genbio_hw/encode_data/genomes/GRCh38_v24_annotation.sqlite...\n",
      "Database loaded successfully\n"
     ]
    }
   ],
   "source": [
    "processor = ENCODEProcessor(\n",
    "    output_dir=\"encode_data\",\n",
    "    ref_genome=\"/home/tjkatz/genbio_hw/encode_data/genomes/GRCh38.fa\",\n",
    "    annotation=\"/home/tjkatz/genbio_hw/encode_data/genomes/GRCh38_v24.gtf\",\n",
    "    db=\"/home/tjkatz/genbio_hw/encode_data/genomes/GRCh38_v24_annotation.sqlite\",\n",
    "    chrom_sizes=\"/home/tjkatz/genbio_hw/encode_data/genomes/GRCh38.chrom.sizes.tsv\",\n",
    "    ensembl_to_uniprot=\"/home/tjkatz/genbio_hw/encode_data/ensembl_to_uniprot.pkl\",\n",
    ")"
   ]
  },
  {
   "cell_type": "code",
   "execution_count": 4,
   "metadata": {},
   "outputs": [
    {
     "name": "stdout",
     "output_type": "stream",
     "text": [
      "Retrying in 3s\n",
      "Fetched: 0 / 0\n"
     ]
    }
   ],
   "source": [
    "samples = processor.process_exp(([\"/home/tjkatz/genbio_hw/encode_data/experiments/ATAC-seq/ENCSR504OUW/ENCFF284FAV.bed\"],\"/home/tjkatz/genbio_hw/encode_data/experiments/ATAC-seq/ENCSR504OUW/metadata.json\"))"
   ]
  },
  {
   "cell_type": "code",
   "execution_count": 6,
   "metadata": {},
   "outputs": [
    {
     "data": {
      "text/html": [
       "<div>\n",
       "<style scoped>\n",
       "    .dataframe tbody tr th:only-of-type {\n",
       "        vertical-align: middle;\n",
       "    }\n",
       "\n",
       "    .dataframe tbody tr th {\n",
       "        vertical-align: top;\n",
       "    }\n",
       "\n",
       "    .dataframe thead th {\n",
       "        text-align: right;\n",
       "    }\n",
       "</style>\n",
       "<table border=\"1\" class=\"dataframe\">\n",
       "  <thead>\n",
       "    <tr style=\"text-align: right;\">\n",
       "      <th></th>\n",
       "      <th>cell_slims</th>\n",
       "      <th>organ_slims</th>\n",
       "      <th>system_slims</th>\n",
       "      <th>biosample_class</th>\n",
       "      <th>assembly</th>\n",
       "      <th>assay</th>\n",
       "      <th>chrom</th>\n",
       "      <th>start</th>\n",
       "      <th>end</th>\n",
       "      <th>genes</th>\n",
       "      <th>uniprot_ids</th>\n",
       "    </tr>\n",
       "  </thead>\n",
       "  <tbody>\n",
       "    <tr>\n",
       "      <th>0</th>\n",
       "      <td>[T cell, hematopoietic cell, CD4+ T cell, leuk...</td>\n",
       "      <td>[blood, bodily fluid]</td>\n",
       "      <td>[immune system]</td>\n",
       "      <td>primary cell</td>\n",
       "      <td>[GRCh38]</td>\n",
       "      <td>ATAC-seq</td>\n",
       "      <td>chr1</td>\n",
       "      <td>768512</td>\n",
       "      <td>789132</td>\n",
       "      <td>[ENSG00000237491.8, ENSG00000230021.8, ENSG000...</td>\n",
       "      <td>[]</td>\n",
       "    </tr>\n",
       "    <tr>\n",
       "      <th>1</th>\n",
       "      <td>[T cell, hematopoietic cell, CD4+ T cell, leuk...</td>\n",
       "      <td>[blood, bodily fluid]</td>\n",
       "      <td>[immune system]</td>\n",
       "      <td>primary cell</td>\n",
       "      <td>[GRCh38]</td>\n",
       "      <td>ATAC-seq</td>\n",
       "      <td>chr1</td>\n",
       "      <td>817012</td>\n",
       "      <td>852514</td>\n",
       "      <td>[ENSG00000228794.8, ENSG00000230092.7, ENSG000...</td>\n",
       "      <td>[]</td>\n",
       "    </tr>\n",
       "    <tr>\n",
       "      <th>2</th>\n",
       "      <td>[T cell, hematopoietic cell, CD4+ T cell, leuk...</td>\n",
       "      <td>[blood, bodily fluid]</td>\n",
       "      <td>[immune system]</td>\n",
       "      <td>primary cell</td>\n",
       "      <td>[GRCh38]</td>\n",
       "      <td>ATAC-seq</td>\n",
       "      <td>chr1</td>\n",
       "      <td>859669</td>\n",
       "      <td>880247</td>\n",
       "      <td>[ENSG00000234711.1, ENSG00000283040.1, ENSG000...</td>\n",
       "      <td>[]</td>\n",
       "    </tr>\n",
       "    <tr>\n",
       "      <th>3</th>\n",
       "      <td>[T cell, hematopoietic cell, CD4+ T cell, leuk...</td>\n",
       "      <td>[blood, bodily fluid]</td>\n",
       "      <td>[immune system]</td>\n",
       "      <td>primary cell</td>\n",
       "      <td>[GRCh38]</td>\n",
       "      <td>ATAC-seq</td>\n",
       "      <td>chr1</td>\n",
       "      <td>894355</td>\n",
       "      <td>914892</td>\n",
       "      <td>[ENSG00000272438.1, ENSG00000230699.2, ENSG000...</td>\n",
       "      <td>[]</td>\n",
       "    </tr>\n",
       "    <tr>\n",
       "      <th>4</th>\n",
       "      <td>[T cell, hematopoietic cell, CD4+ T cell, leuk...</td>\n",
       "      <td>[blood, bodily fluid]</td>\n",
       "      <td>[immune system]</td>\n",
       "      <td>primary cell</td>\n",
       "      <td>[GRCh38]</td>\n",
       "      <td>ATAC-seq</td>\n",
       "      <td>chr1</td>\n",
       "      <td>949102</td>\n",
       "      <td>1030194</td>\n",
       "      <td>[ENSG00000187608.8, ENSG00000188976.10, ENSG00...</td>\n",
       "      <td>[O00468, Q9Y3T9, Q9HCC6, Q6TDP4, A0A096LNZ9, J...</td>\n",
       "    </tr>\n",
       "  </tbody>\n",
       "</table>\n",
       "</div>"
      ],
      "text/plain": [
       "                                          cell_slims            organ_slims  \\\n",
       "0  [T cell, hematopoietic cell, CD4+ T cell, leuk...  [blood, bodily fluid]   \n",
       "1  [T cell, hematopoietic cell, CD4+ T cell, leuk...  [blood, bodily fluid]   \n",
       "2  [T cell, hematopoietic cell, CD4+ T cell, leuk...  [blood, bodily fluid]   \n",
       "3  [T cell, hematopoietic cell, CD4+ T cell, leuk...  [blood, bodily fluid]   \n",
       "4  [T cell, hematopoietic cell, CD4+ T cell, leuk...  [blood, bodily fluid]   \n",
       "\n",
       "      system_slims biosample_class  assembly     assay chrom   start      end  \\\n",
       "0  [immune system]    primary cell  [GRCh38]  ATAC-seq  chr1  768512   789132   \n",
       "1  [immune system]    primary cell  [GRCh38]  ATAC-seq  chr1  817012   852514   \n",
       "2  [immune system]    primary cell  [GRCh38]  ATAC-seq  chr1  859669   880247   \n",
       "3  [immune system]    primary cell  [GRCh38]  ATAC-seq  chr1  894355   914892   \n",
       "4  [immune system]    primary cell  [GRCh38]  ATAC-seq  chr1  949102  1030194   \n",
       "\n",
       "                                               genes  \\\n",
       "0  [ENSG00000237491.8, ENSG00000230021.8, ENSG000...   \n",
       "1  [ENSG00000228794.8, ENSG00000230092.7, ENSG000...   \n",
       "2  [ENSG00000234711.1, ENSG00000283040.1, ENSG000...   \n",
       "3  [ENSG00000272438.1, ENSG00000230699.2, ENSG000...   \n",
       "4  [ENSG00000187608.8, ENSG00000188976.10, ENSG00...   \n",
       "\n",
       "                                         uniprot_ids  \n",
       "0                                                 []  \n",
       "1                                                 []  \n",
       "2                                                 []  \n",
       "3                                                 []  \n",
       "4  [O00468, Q9Y3T9, Q9HCC6, Q6TDP4, A0A096LNZ9, J...  "
      ]
     },
     "execution_count": 6,
     "metadata": {},
     "output_type": "execute_result"
    }
   ],
   "source": [
    "df = pd.read_parquet(\"/home/tjkatz/genbio_hw/encode_data/processed/ENCSR504OUW.parquet\")\n",
    "df.head()"
   ]
  },
  {
   "cell_type": "code",
   "execution_count": 7,
   "metadata": {},
   "outputs": [
    {
     "data": {
      "text/plain": [
       "(14199, 11)"
      ]
     },
     "execution_count": 7,
     "metadata": {},
     "output_type": "execute_result"
    }
   ],
   "source": [
    "df.shape"
   ]
  }
 ],
 "metadata": {
  "kernelspec": {
   "display_name": "genbio",
   "language": "python",
   "name": "python3"
  },
  "language_info": {
   "codemirror_mode": {
    "name": "ipython",
    "version": 3
   },
   "file_extension": ".py",
   "mimetype": "text/x-python",
   "name": "python",
   "nbconvert_exporter": "python",
   "pygments_lexer": "ipython3",
   "version": "3.11.11"
  }
 },
 "nbformat": 4,
 "nbformat_minor": 2
}
