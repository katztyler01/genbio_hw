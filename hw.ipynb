{
 "cells": [
  {
   "cell_type": "code",
   "execution_count": 1,
   "metadata": {},
   "outputs": [],
   "source": [
    "from downloader import ENCODEDownloader\n",
    "from pybedtools import BedTool\n",
    "import pandas as pd\n",
    "import gffutils\n",
    "from processor import ENCODEProcessor\n",
    "import re\n"
   ]
  },
  {
   "cell_type": "code",
   "execution_count": 2,
   "metadata": {},
   "outputs": [],
   "source": [
    "# TODO: add stuff for hg19 genome (cage)\n",
    "# downloader = ENCODEDownloader()\n",
    "# downloader.download_reference_genome()\n",
    "# downloader.find_experiments(assay=\"CAGE\", n_experiments=2)"
   ]
  },
  {
   "cell_type": "code",
   "execution_count": 3,
   "metadata": {},
   "outputs": [
    {
     "name": "stdout",
     "output_type": "stream",
     "text": [
      "Loading existing database from /home/tjkatz/genbio_hw/encode_data/genomes/GRCh38_v24_annotation.sqlite...\n",
      "Database loaded successfully\n"
     ]
    }
   ],
   "source": [
    "processor = ENCODEProcessor(\n",
    "    output_dir=\"encode_data\",\n",
    "    ref_genome=\"/home/tjkatz/genbio_hw/encode_data/genomes/GRCh38.fa\",\n",
    "    annotation=\"/home/tjkatz/genbio_hw/encode_data/genomes/GRCh38_v24.gtf\",\n",
    "    db=\"/home/tjkatz/genbio_hw/encode_data/genomes/GRCh38_v24_annotation.sqlite\",\n",
    "    chrom_sizes=\"/home/tjkatz/genbio_hw/encode_data/genomes/GRCh38.chrom.sizes.tsv\",\n",
    "    ensembl_to_uniprot=\"/home/tjkatz/genbio_hw/encode_data/ensembl_to_uniprot.pkl\",\n",
    ")"
   ]
  },
  {
   "cell_type": "code",
   "execution_count": 4,
   "metadata": {},
   "outputs": [
    {
     "name": "stdout",
     "output_type": "stream",
     "text": [
      "Retrying in 3s\n",
      "Fetched: 0 / 0\n"
     ]
    }
   ],
   "source": [
    "samples = processor.process_exp(([\"/home/tjkatz/genbio_hw/encode_data/experiments/ATAC-seq/ENCSR504OUW/ENCFF284FAV.bed\"],\"/home/tjkatz/genbio_hw/encode_data/experiments/ATAC-seq/ENCSR504OUW/metadata.json\"))"
   ]
  },
  {
   "cell_type": "code",
   "execution_count": 8,
   "metadata": {},
   "outputs": [
    {
     "data": {
      "text/html": [
       "<div>\n",
       "<style scoped>\n",
       "    .dataframe tbody tr th:only-of-type {\n",
       "        vertical-align: middle;\n",
       "    }\n",
       "\n",
       "    .dataframe tbody tr th {\n",
       "        vertical-align: top;\n",
       "    }\n",
       "\n",
       "    .dataframe thead th {\n",
       "        text-align: right;\n",
       "    }\n",
       "</style>\n",
       "<table border=\"1\" class=\"dataframe\">\n",
       "  <thead>\n",
       "    <tr style=\"text-align: right;\">\n",
       "      <th></th>\n",
       "      <th>chrom</th>\n",
       "      <th>start</th>\n",
       "      <th>end</th>\n",
       "      <th>assay</th>\n",
       "      <th>uniprot_ids</th>\n",
       "      <th>biosample_class</th>\n",
       "      <th>system_slims</th>\n",
       "      <th>organ_slims</th>\n",
       "      <th>cell_slims</th>\n",
       "      <th>genes</th>\n",
       "      <th>assembly</th>\n",
       "    </tr>\n",
       "  </thead>\n",
       "  <tbody>\n",
       "    <tr>\n",
       "      <th>0</th>\n",
       "      <td>chr1</td>\n",
       "      <td>768480</td>\n",
       "      <td>789254</td>\n",
       "      <td>ATAC-seq</td>\n",
       "      <td>[]</td>\n",
       "      <td>tissue</td>\n",
       "      <td>[digestive system, exocrine system, endocrine ...</td>\n",
       "      <td>[liver, exocrine gland, endocrine gland]</td>\n",
       "      <td>[]</td>\n",
       "      <td>[ENSG00000230021.8, ENSG00000228327.3, ENSG000...</td>\n",
       "      <td>[GRCh38]</td>\n",
       "    </tr>\n",
       "    <tr>\n",
       "      <th>1</th>\n",
       "      <td>chr1</td>\n",
       "      <td>806697</td>\n",
       "      <td>841132</td>\n",
       "      <td>ATAC-seq</td>\n",
       "      <td>[]</td>\n",
       "      <td>tissue</td>\n",
       "      <td>[digestive system, exocrine system, endocrine ...</td>\n",
       "      <td>[liver, exocrine gland, endocrine gland]</td>\n",
       "      <td>[]</td>\n",
       "      <td>[ENSG00000230021.8, ENSG00000230092.7, ENSG000...</td>\n",
       "      <td>[GRCh38]</td>\n",
       "    </tr>\n",
       "    <tr>\n",
       "      <th>2</th>\n",
       "      <td>chr1</td>\n",
       "      <td>841922</td>\n",
       "      <td>880268</td>\n",
       "      <td>ATAC-seq</td>\n",
       "      <td>[]</td>\n",
       "      <td>tissue</td>\n",
       "      <td>[digestive system, exocrine system, endocrine ...</td>\n",
       "      <td>[liver, exocrine gland, endocrine gland]</td>\n",
       "      <td>[]</td>\n",
       "      <td>[ENSG00000228794.8, ENSG00000283040.1, ENSG000...</td>\n",
       "      <td>[GRCh38]</td>\n",
       "    </tr>\n",
       "    <tr>\n",
       "      <th>3</th>\n",
       "      <td>chr1</td>\n",
       "      <td>894042</td>\n",
       "      <td>1090601</td>\n",
       "      <td>ATAC-seq</td>\n",
       "      <td>[A0A087WYW1, Q5SV97, Q5T2W7, A0A096LPJ4, Q96HA...</td>\n",
       "      <td>tissue</td>\n",
       "      <td>[digestive system, exocrine system, endocrine ...</td>\n",
       "      <td>[liver, exocrine gland, endocrine gland]</td>\n",
       "      <td>[]</td>\n",
       "      <td>[ENSG00000241180.1, ENSG00000217801.9, ENSG000...</td>\n",
       "      <td>[GRCh38]</td>\n",
       "    </tr>\n",
       "    <tr>\n",
       "      <th>4</th>\n",
       "      <td>chr1</td>\n",
       "      <td>1105816</td>\n",
       "      <td>1138835</td>\n",
       "      <td>ATAC-seq</td>\n",
       "      <td>[B2REC5, B2REC4, J3QSF0, Q5T2W7, J3QRL0, J3KSJ...</td>\n",
       "      <td>tissue</td>\n",
       "      <td>[digestive system, exocrine system, endocrine ...</td>\n",
       "      <td>[liver, exocrine gland, endocrine gland]</td>\n",
       "      <td>[]</td>\n",
       "      <td>[ENSG00000223823.1, ENSG00000131591.17]</td>\n",
       "      <td>[GRCh38]</td>\n",
       "    </tr>\n",
       "  </tbody>\n",
       "</table>\n",
       "</div>"
      ],
      "text/plain": [
       "  chrom    start      end     assay  \\\n",
       "0  chr1   768480   789254  ATAC-seq   \n",
       "1  chr1   806697   841132  ATAC-seq   \n",
       "2  chr1   841922   880268  ATAC-seq   \n",
       "3  chr1   894042  1090601  ATAC-seq   \n",
       "4  chr1  1105816  1138835  ATAC-seq   \n",
       "\n",
       "                                         uniprot_ids biosample_class  \\\n",
       "0                                                 []          tissue   \n",
       "1                                                 []          tissue   \n",
       "2                                                 []          tissue   \n",
       "3  [A0A087WYW1, Q5SV97, Q5T2W7, A0A096LPJ4, Q96HA...          tissue   \n",
       "4  [B2REC5, B2REC4, J3QSF0, Q5T2W7, J3QRL0, J3KSJ...          tissue   \n",
       "\n",
       "                                        system_slims  \\\n",
       "0  [digestive system, exocrine system, endocrine ...   \n",
       "1  [digestive system, exocrine system, endocrine ...   \n",
       "2  [digestive system, exocrine system, endocrine ...   \n",
       "3  [digestive system, exocrine system, endocrine ...   \n",
       "4  [digestive system, exocrine system, endocrine ...   \n",
       "\n",
       "                                organ_slims cell_slims  \\\n",
       "0  [liver, exocrine gland, endocrine gland]         []   \n",
       "1  [liver, exocrine gland, endocrine gland]         []   \n",
       "2  [liver, exocrine gland, endocrine gland]         []   \n",
       "3  [liver, exocrine gland, endocrine gland]         []   \n",
       "4  [liver, exocrine gland, endocrine gland]         []   \n",
       "\n",
       "                                               genes  assembly  \n",
       "0  [ENSG00000230021.8, ENSG00000228327.3, ENSG000...  [GRCh38]  \n",
       "1  [ENSG00000230021.8, ENSG00000230092.7, ENSG000...  [GRCh38]  \n",
       "2  [ENSG00000228794.8, ENSG00000283040.1, ENSG000...  [GRCh38]  \n",
       "3  [ENSG00000241180.1, ENSG00000217801.9, ENSG000...  [GRCh38]  \n",
       "4            [ENSG00000223823.1, ENSG00000131591.17]  [GRCh38]  "
      ]
     },
     "execution_count": 8,
     "metadata": {},
     "output_type": "execute_result"
    }
   ],
   "source": [
    "df = pd.read_parquet(\"/home/tjkatz/genbio_hw/encode_data/experiments/atac.parquet\")\n",
    "df.head()"
   ]
  },
  {
   "cell_type": "code",
   "execution_count": 9,
   "metadata": {},
   "outputs": [
    {
     "data": {
      "text/plain": [
       "array(['tissue', 'cell line', 'in vitro differentiated cells',\n",
       "       'primary cell'], dtype=object)"
      ]
     },
     "execution_count": 9,
     "metadata": {},
     "output_type": "execute_result"
    }
   ],
   "source": [
    "df[\"biosample_class\"].unique()"
   ]
  }
 ],
 "metadata": {
  "kernelspec": {
   "display_name": "genbio",
   "language": "python",
   "name": "python3"
  },
  "language_info": {
   "codemirror_mode": {
    "name": "ipython",
    "version": 3
   },
   "file_extension": ".py",
   "mimetype": "text/x-python",
   "name": "python",
   "nbconvert_exporter": "python",
   "pygments_lexer": "ipython3",
   "version": "3.11.11"
  }
 },
 "nbformat": 4,
 "nbformat_minor": 2
}
