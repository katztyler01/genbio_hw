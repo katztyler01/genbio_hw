{
 "cells": [
  {
   "cell_type": "code",
   "execution_count": 1,
   "metadata": {},
   "outputs": [],
   "source": [
    "from downloader import ENCODEDownloader\n",
    "from pybedtools import BedTool\n",
    "import pandas as pd\n",
    "import gffutils\n",
    "from processor import ENCODEProcessor"
   ]
  },
  {
   "cell_type": "code",
   "execution_count": 2,
   "metadata": {},
   "outputs": [],
   "source": [
    "downloader = ENCODEDownloader()\n",
    "# downloader.download_reference_genome()\n",
    "# downloader.download_experiments(assay=\"ATAC-seq\", n_experiments=2)"
   ]
  },
  {
   "cell_type": "code",
   "execution_count": 4,
   "metadata": {},
   "outputs": [
    {
     "name": "stdout",
     "output_type": "stream",
     "text": [
      "Database created\n"
     ]
    }
   ],
   "source": [
    "gene_db = downloader.get_gene_db(db_file=\"/home/tjkatz/genbio_hw/encode_data/genomes/GRCh38_v24_annotation.sqlite\")"
   ]
  },
  {
   "cell_type": "code",
   "execution_count": 3,
   "metadata": {},
   "outputs": [
    {
     "name": "stdout",
     "output_type": "stream",
     "text": [
      "Loading existing database from /home/tjkatz/genbio_hw/encode_data/genomes/GRCh38_v24_annotation.sqlite...\n",
      "Database loaded successfully\n"
     ]
    }
   ],
   "source": [
    "processor = ENCODEProcessor(output_dir=\"encode_data\", db_file=\"/home/tjkatz/genbio_hw/encode_data/genomes/GRCh38_v24_annotation.sqlite\")"
   ]
  },
  {
   "cell_type": "code",
   "execution_count": 4,
   "metadata": {},
   "outputs": [],
   "source": [
    "t_to_g, g_to_t = processor.get_transcript_gene_mapping()"
   ]
  },
  {
   "cell_type": "code",
   "execution_count": 5,
   "metadata": {},
   "outputs": [
    {
     "data": {
      "text/plain": [
       "(143984, 19844)"
      ]
     },
     "execution_count": 5,
     "metadata": {},
     "output_type": "execute_result"
    }
   ],
   "source": [
    "len(t_to_g), len(g_to_t)"
   ]
  },
  {
   "cell_type": "code",
   "execution_count": 6,
   "metadata": {},
   "outputs": [
    {
     "name": "stdout",
     "output_type": "stream",
     "text": [
      "ENSG00000186092.4 ['ENST00000335137.3']\n",
      "ENSG00000279928.1 ['ENST00000624431.1']\n",
      "ENSG00000279457.3 ['ENST00000623834.3', 'ENST00000623083.3', 'ENST00000624735.1']\n",
      "ENSG00000278566.1 ['ENST00000426406.2']\n",
      "ENSG00000273547.1 ['ENST00000332831.3']\n"
     ]
    }
   ],
   "source": [
    "i = 0\n",
    "for gene_id, transcript_ids in g_to_t.items():\n",
    "    print(gene_id, transcript_ids)\n",
    "    i += 1\n",
    "    if i > 4:\n",
    "        break"
   ]
  },
  {
   "cell_type": "code",
   "execution_count": 6,
   "metadata": {},
   "outputs": [],
   "source": [
    "genes_bed = BedTool([\n",
    "    (gene.seqid, gene.start - 1, gene.end, gene.id, 0, gene.strand)\n",
    "    for gene in gene_db.features_of_type('gene')\n",
    "])"
   ]
  },
  {
   "cell_type": "code",
   "execution_count": 8,
   "metadata": {},
   "outputs": [],
   "source": [
    "atac_peaks = BedTool(\"/home/tjkatz/genbio_hw/encode_data/experiments/ATAC-seq/ENCSR504OUW/ENCFF578ODL.bed\")\n",
    "extended_peaks = atac_peaks.slop(b=10000, genome=\"hg38\")\n",
    "merged_peaks = extended_peaks.sort().merge()"
   ]
  },
  {
   "cell_type": "code",
   "execution_count": 9,
   "metadata": {},
   "outputs": [],
   "source": [
    "peak_gene_intersect = merged_peaks.intersect(genes_bed, wo=True)"
   ]
  },
  {
   "cell_type": "code",
   "execution_count": 11,
   "metadata": {},
   "outputs": [
    {
     "name": "stdout",
     "output_type": "stream",
     "text": [
      "chr1\t619075\t644615\n",
      " chr1\t768512\t789132\n",
      " chr1\t807200\t880247\n",
      " chr1\t894355\t933959\n",
      " chr1\t949102\t1090370\n",
      " chr1\t1105809\t1261213\n",
      " chr1\t1263576\t1335119\n",
      " chr1\t1339085\t1360031\n",
      " chr1\t1362123\t1385703\n",
      " chr1\t1389206\t1451175\n",
      " "
     ]
    }
   ],
   "source": [
    "merged_peaks.head()"
   ]
  },
  {
   "cell_type": "code",
   "execution_count": 12,
   "metadata": {},
   "outputs": [
    {
     "data": {
      "text/plain": [
       "41022"
      ]
     },
     "execution_count": 12,
     "metadata": {},
     "output_type": "execute_result"
    }
   ],
   "source": [
    "len(peak_gene_intersect)"
   ]
  },
  {
   "cell_type": "code",
   "execution_count": 3,
   "metadata": {},
   "outputs": [
    {
     "name": "stdout",
     "output_type": "stream",
     "text": [
      "chr17\t22521161\t22521641\t.\t1000\t.\t43.16060\t4190.77197\t4183.08691\t247\t5.000000\t5.000000\t22521162\t22521638\t2048.82837\t247\t22521275\t22521637\t2112.65259\t132\n",
      " chr3\t93470286\t93470867\t.\t1000\t.\t24.47231\t3844.53003\t3837.15942\t242\t5.000000\t5.000000\t93470286\t93470865\t1921.41821\t245\t93470286\t93470865\t2009.61560\t239\n",
      " chr1\t629075\t630079\t.\t1000\t.\t4.82939\t3321.11792\t3314.13208\t742\t5.000000\t5.000000\t629080\t630079\t1688.07837\t720\t629078\t630079\t1818.21729\t748\n",
      " chr1\t633844\t634276\t.\t1000\t.\t4.78651\t3306.60278\t3299.63013\t166\t5.000000\t5.000000\t633852\t634276\t1702.11597\t159\t633861\t634272\t1636.55872\t148\n",
      " chr11\t10509148\t10509788\t.\t1000\t.\t25.85853\t1957.33264\t1950.85278\t241\t5.000000\t5.000000\t10509148\t10509784\t1010.71100\t241\t10509149\t10509789\t949.80609\t240\n",
      " chr1\t631857\t632357\t.\t1000\t.\t3.70537\t1916.37683\t1909.92163\t358\t5.000000\t5.000000\t631857\t632357\t995.52039\t360\t631862\t632356\t946.83716\t351\n",
      " chr4\t165327252\t165328013\t.\t1000\t.\t30.24539\t1701.36377\t1694.97412\t267\t5.000000\t5.000000\t165327252\t165328012\t837.13690\t266\t165327252\t165328012\t831.92572\t269\n",
      " chr10\t74825907\t74827065\t.\t1000\t.\t17.23965\t1710.30103\t1703.90820\t559\t5.000000\t5.000000\t74825909\t74827070\t826.49176\t561\t74825909\t74827055\t874.61548\t553\n",
      " chr2\t30146305\t30147080\t.\t1000\t.\t22.19576\t1747.67212\t1741.26672\t359\t5.000000\t5.000000\t30146303\t30147071\t821.00574\t363\t30146308\t30147071\t923.56775\t355\n",
      " chr13\t49443877\t49444543\t.\t1000\t.\t23.77447\t1562.48755\t1556.24768\t321\t5.000000\t5.000000\t49443877\t49444532\t807.58032\t312\t49443884\t49444543\t813.75348\t321\n",
      " "
     ]
    }
   ],
   "source": [
    "atac_peaks.head()"
   ]
  },
  {
   "cell_type": "code",
   "execution_count": 6,
   "metadata": {},
   "outputs": [
    {
     "data": {
      "text/plain": [
       "22551"
      ]
     },
     "execution_count": 6,
     "metadata": {},
     "output_type": "execute_result"
    }
   ],
   "source": [
    "len(merged_peaks)"
   ]
  },
  {
   "cell_type": "code",
   "execution_count": 7,
   "metadata": {},
   "outputs": [
    {
     "name": "stdout",
     "output_type": "stream",
     "text": [
      "chr1\t619075\t644615\n",
      " chr1\t768512\t789132\n",
      " chr1\t807200\t880247\n",
      " chr1\t894355\t933959\n",
      " chr1\t949102\t1090370\n",
      " chr1\t1105809\t1261213\n",
      " chr1\t1263576\t1335119\n",
      " chr1\t1339085\t1360031\n",
      " chr1\t1362123\t1385703\n",
      " chr1\t1389206\t1451175\n",
      " "
     ]
    }
   ],
   "source": [
    "merged_peaks.head()"
   ]
  }
 ],
 "metadata": {
  "kernelspec": {
   "display_name": "genbio",
   "language": "python",
   "name": "python3"
  },
  "language_info": {
   "codemirror_mode": {
    "name": "ipython",
    "version": 3
   },
   "file_extension": ".py",
   "mimetype": "text/x-python",
   "name": "python",
   "nbconvert_exporter": "python",
   "pygments_lexer": "ipython3",
   "version": "3.11.11"
  }
 },
 "nbformat": 4,
 "nbformat_minor": 2
}
