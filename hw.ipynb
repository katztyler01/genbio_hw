{
 "cells": [
  {
   "cell_type": "code",
   "execution_count": 1,
   "metadata": {},
   "outputs": [],
   "source": [
    "from downloader import ENCODEDownloader\n",
    "from pybedtools import BedTool\n",
    "import pandas as pd\n",
    "import gffutils\n",
    "from processor import ENCODEProcessor\n",
    "import re"
   ]
  },
  {
   "cell_type": "code",
   "execution_count": 2,
   "metadata": {},
   "outputs": [],
   "source": [
    "downloader = ENCODEDownloader()\n",
    "# downloader.download_reference_genome()\n",
    "# downloader.download_experiments(assay=\"ATAC-seq\", n_experiments=2)"
   ]
  },
  {
   "cell_type": "code",
   "execution_count": 3,
   "metadata": {},
   "outputs": [
    {
     "name": "stdout",
     "output_type": "stream",
     "text": [
      "Loading existing database from /home/tjkatz/genbio_hw/encode_data/genomes/GRCh38_v24_annotation.sqlite...\n",
      "Database loaded successfully\n"
     ]
    }
   ],
   "source": [
    "gene_db = downloader.get_gene_db(\n",
    "    db_file=\"/home/tjkatz/genbio_hw/encode_data/genomes/GRCh38_v24_annotation.sqlite\"\n",
    ")"
   ]
  },
  {
   "cell_type": "code",
   "execution_count": 4,
   "metadata": {},
   "outputs": [
    {
     "name": "stdout",
     "output_type": "stream",
     "text": [
      "Loading existing database from /home/tjkatz/genbio_hw/encode_data/genomes/GRCh38_v24_annotation.sqlite...\n",
      "Database loaded successfully\n"
     ]
    }
   ],
   "source": [
    "processor = ENCODEProcessor(\n",
    "    output_dir=\"encode_data\",\n",
    "    db_file=\"/home/tjkatz/genbio_hw/encode_data/genomes/GRCh38_v24_annotation.sqlite\",\n",
    ")"
   ]
  },
  {
   "cell_type": "code",
   "execution_count": 5,
   "metadata": {},
   "outputs": [],
   "source": [
    "t_to_g, g_to_t = processor.get_transcript_gene_mapping()"
   ]
  },
  {
   "cell_type": "code",
   "execution_count": 6,
   "metadata": {},
   "outputs": [
    {
     "data": {
      "text/plain": [
       "(143984, 19844)"
      ]
     },
     "execution_count": 6,
     "metadata": {},
     "output_type": "execute_result"
    }
   ],
   "source": [
    "len(t_to_g), len(g_to_t)"
   ]
  },
  {
   "cell_type": "code",
   "execution_count": 7,
   "metadata": {},
   "outputs": [
    {
     "name": "stdout",
     "output_type": "stream",
     "text": [
      "ENSG00000186092.4 ['ENST00000335137.3']\n",
      "ENSG00000279928.1 ['ENST00000624431.1']\n",
      "ENSG00000279457.3 ['ENST00000623834.3', 'ENST00000623083.3', 'ENST00000624735.1']\n",
      "ENSG00000278566.1 ['ENST00000426406.2']\n",
      "ENSG00000273547.1 ['ENST00000332831.3']\n"
     ]
    }
   ],
   "source": [
    "i = 0\n",
    "for gene_id, transcript_ids in g_to_t.items():\n",
    "    print(gene_id, transcript_ids)\n",
    "    i += 1\n",
    "    if i > 4:\n",
    "        break"
   ]
  },
  {
   "cell_type": "code",
   "execution_count": 8,
   "metadata": {},
   "outputs": [],
   "source": [
    "genes_bed = BedTool(\n",
    "    [\n",
    "        (gene.seqid, gene.start - 1, gene.end, gene.id, 0, gene.strand)\n",
    "        for gene in processor.gene_db.features_of_type(\"gene\")\n",
    "    ]\n",
    ")"
   ]
  },
  {
   "cell_type": "code",
   "execution_count": 9,
   "metadata": {},
   "outputs": [],
   "source": [
    "atac_peaks = BedTool(\n",
    "    \"/home/tjkatz/genbio_hw/encode_data/experiments/ATAC-seq/ENCSR504OUW/ENCFF578ODL.bed\"\n",
    ")\n",
    "extended_peaks = atac_peaks.slop(b=10000, genome=\"hg38\")\n",
    "merged_peaks = extended_peaks.sort().merge()"
   ]
  },
  {
   "cell_type": "code",
   "execution_count": 10,
   "metadata": {},
   "outputs": [],
   "source": [
    "peak_gene_intersect = merged_peaks.intersect(genes_bed, wo=True)"
   ]
  },
  {
   "cell_type": "code",
   "execution_count": 11,
   "metadata": {},
   "outputs": [
    {
     "name": "stdout",
     "output_type": "stream",
     "text": [
      "chr1\t619075\t644615\tchr1\t629061\t629433\tENSG00000225972.1\t0\t+\t372\n",
      " chr1\t619075\t644615\tchr1\t629639\t630683\tENSG00000225630.1\t0\t+\t1044\n",
      " chr1\t619075\t644615\tchr1\t631073\t632616\tENSG00000237973.1\t0\t+\t1543\n",
      " chr1\t619075\t644615\tchr1\t632756\t633438\tENSG00000229344.1\t0\t+\t682\n",
      " chr1\t619075\t644615\tchr1\t633534\t633741\tENSG00000240409.1\t0\t+\t207\n",
      " chr1\t619075\t644615\tchr1\t633695\t634376\tENSG00000248527.1\t0\t+\t681\n",
      " chr1\t619075\t644615\tchr1\t634375\t634922\tENSG00000198744.5\t0\t+\t547\n",
      " chr1\t619075\t644615\tchr1\t585988\t827796\tENSG00000230021.8\t0\t-\t25540\n",
      " chr1\t768512\t789132\tchr1\t725884\t778626\tENSG00000228327.3\t0\t-\t10114\n",
      " chr1\t768512\t789132\tchr1\t585988\t827796\tENSG00000230021.8\t0\t-\t20620\n",
      " "
     ]
    }
   ],
   "source": [
    "peak_gene_intersect.head()"
   ]
  },
  {
   "cell_type": "code",
   "execution_count": 12,
   "metadata": {},
   "outputs": [
    {
     "data": {
      "text/plain": [
       "41022"
      ]
     },
     "execution_count": 12,
     "metadata": {},
     "output_type": "execute_result"
    }
   ],
   "source": [
    "len(peak_gene_intersect)"
   ]
  },
  {
   "cell_type": "code",
   "execution_count": 13,
   "metadata": {},
   "outputs": [
    {
     "name": "stdout",
     "output_type": "stream",
     "text": [
      "30080\n"
     ]
    }
   ],
   "source": [
    "gene_ids = set()\n",
    "for peak in peak_gene_intersect:\n",
    "    gene_ids.add(peak[6])\n",
    "print(len(gene_ids))"
   ]
  },
  {
   "cell_type": "code",
   "execution_count": 14,
   "metadata": {},
   "outputs": [
    {
     "name": "stdout",
     "output_type": "stream",
     "text": [
      "132788\n"
     ]
    }
   ],
   "source": [
    "trans_ids = set()\n",
    "for gene_id in gene_ids:\n",
    "    trans_ids.update(g_to_t[gene_id])\n",
    "print(len(trans_ids))"
   ]
  },
  {
   "cell_type": "code",
   "execution_count": 15,
   "metadata": {},
   "outputs": [
    {
     "name": "stdout",
     "output_type": "stream",
     "text": [
      "Retrying in 3s\n",
      "Fetched: 30 / 30\n"
     ]
    }
   ],
   "source": [
    "test_ids = list(trans_ids)[:50]\n",
    "results = processor.map_transcripts_to_uniprot(transcript_ids=test_ids)"
   ]
  },
  {
   "cell_type": "code",
   "execution_count": 16,
   "metadata": {},
   "outputs": [
    {
     "data": {
      "text/plain": [
       "{'ENST00000368029': 'Q8WWU7',\n",
       " 'ENST00000393452': 'E7EPD8',\n",
       " 'ENST00000498214': 'A8K3Q5',\n",
       " 'ENST00000181383': 'Q96IY4',\n",
       " 'ENST00000619918': 'Q9UFD9',\n",
       " 'ENST00000372217': 'Q99661',\n",
       " 'ENST00000568378': 'H3BMR9',\n",
       " 'ENST00000504897': 'G3V1J0',\n",
       " 'ENST00000598249': 'Q9H254',\n",
       " 'ENST00000539865': 'F5H023',\n",
       " 'ENST00000455757': 'H7C1R5',\n",
       " 'ENST00000435470': 'O95278',\n",
       " 'ENST00000367449': 'Q9Y5K5',\n",
       " 'ENST00000622874': 'E9JVC4',\n",
       " 'ENST00000547579': 'F8W1F2',\n",
       " 'ENST00000345378': 'P35557',\n",
       " 'ENST00000471098': 'C9IZ32',\n",
       " 'ENST00000333991': 'O14727',\n",
       " 'ENST00000301264': 'O43293',\n",
       " 'ENST00000308423': 'Q16853',\n",
       " 'ENST00000541435': 'Q96DB9',\n",
       " 'ENST00000568312': 'I3L306',\n",
       " 'ENST00000542869': 'Q13882',\n",
       " 'ENST00000481367': 'H7C5G1',\n",
       " 'ENST00000430527': 'E9PRN3',\n",
       " 'ENST00000529749': 'E9PIG6',\n",
       " 'ENST00000361092': 'Q9NWW6',\n",
       " 'ENST00000361490': 'Q92902',\n",
       " 'ENST00000355149': 'Q8TCZ2',\n",
       " 'ENST00000392746': 'F8W689'}"
      ]
     },
     "execution_count": 16,
     "metadata": {},
     "output_type": "execute_result"
    }
   ],
   "source": [
    "results"
   ]
  }
 ],
 "metadata": {
  "kernelspec": {
   "display_name": "genbio",
   "language": "python",
   "name": "python3"
  },
  "language_info": {
   "codemirror_mode": {
    "name": "ipython",
    "version": 3
   },
   "file_extension": ".py",
   "mimetype": "text/x-python",
   "name": "python",
   "nbconvert_exporter": "python",
   "pygments_lexer": "ipython3",
   "version": "3.11.11"
  }
 },
 "nbformat": 4,
 "nbformat_minor": 2
}
